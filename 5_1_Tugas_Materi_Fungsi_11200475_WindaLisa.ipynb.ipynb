{
  "nbformat": 4,
  "nbformat_minor": 0,
  "metadata": {
    "colab": {
      "name": "5_1_Tugas_Materi_Fungsi.ipynb",
      "provenance": [],
      "collapsed_sections": []
    },
    "kernelspec": {
      "name": "python3",
      "display_name": "Python 3"
    }
  },
  "cells": [
    {
      "cell_type": "code",
      "metadata": {
        "id": "22s8pI85u5_J"
      },
      "source": [
        ""
      ],
      "execution_count": null,
      "outputs": []
    },
    {
      "cell_type": "markdown",
      "metadata": {
        "id": "fPMZcyuxvINI"
      },
      "source": [
        "**Soal 5.1.1**\n",
        "\n",
        "Berikut ini adalah potongan kode implementasi fungsi *luas_limas_segi_empat()*\n",
        "``` javascript\n",
        "print(\"Luas : %d\" % luas_limas_segi_empat(Alas_limas, Tinggi_limas))​\n",
        "```\n",
        "Lengkapilah kode tersebut dengan merancang sebuah fungsi agar bisa diimplementasikan sesuai dengan statment potongan kode diatas.\n",
        "dengan mengetikan pada code cell di bawah ini pada editor."
      ]
    },
    {
      "cell_type": "code",
      "metadata": {
        "id": "WMeeaGjuxQfL",
        "outputId": "3511ca4d-cb94-4928-a845-5848f7fc4fb7",
        "colab": {
          "base_uri": "https://localhost:8080/"
        }
      },
      "source": [
        "# Soal 4.1.1\n",
        "def luas_limas_segi_empat(Alas_limas, Tinggi_limas):\n",
        "      Alas_limas = int (input(\"Masukan Luas Alas\"))\n",
        "      Tinggi_limas = int (input(\"Masukan Tinggi_limas\"))\n",
        "      luas = (Alas_limas*Alas_limas)+(4*0.5*Alas_limas*Tinggi_limas)\n",
        "      return luas\n",
        "  # pemanggilan fungsi\n",
        "print(\"Luas : %d\" % luas_limas_segi_empat(print,print))"
      ],
      "execution_count": 2,
      "outputs": [
        {
          "output_type": "stream",
          "name": "stdout",
          "text": [
            "Masukan Luas Alas7\n",
            "Masukan Tinggi_limas3\n",
            "Luas : 91\n"
          ]
        }
      ]
    }
  ]
}