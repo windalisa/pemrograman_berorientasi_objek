{
  "nbformat": 4,
  "nbformat_minor": 0,
  "metadata": {
    "colab": {
      "name": "4_4_operator_matematika_dan_input_11200461_Muhammad Fajri Aushaf.ipynb",
      "provenance": [],
      "collapsed_sections": []
    },
    "kernelspec": {
      "name": "python3",
      "display_name": "Python 3"
    }
  },
  "cells": [
    {
      "cell_type": "code",
      "metadata": {
        "id": "f7WajviOKztl"
      },
      "source": [
        ""
      ],
      "execution_count": null,
      "outputs": []
    },
    {
      "cell_type": "markdown",
      "metadata": {
        "id": "Zf9uJW37LCfb"
      },
      "source": [
        "**Praktek Operasi Input Dan Operator Matematika**\n",
        "\n",
        "Bukalah kembali praktek operator matematika.\n",
        "\n",
        "Ubahlah agar variable **a** dan **b** menggunakan input dari keyboard\n",
        "\n",
        "\n",
        "Implementasikan code di bawah ini pada kode cell editor:\n",
        "``` javascript\n",
        "selisih = a-b\n",
        "jumlah = a+b\n",
        "kali = a*b\n",
        "bagi = a/b\n",
        "print(\"Hasil penjumlahan dan b adalah\", jumlah)\n",
        "print(\"Selisih a dan b adalah :\",selisih)\n",
        "print(\"Hasil perkalian a dan b adalah :\",kali)\n",
        "print(\"Hasil  pembagian a dan b adalah:\",bagi)\n",
        "\n",
        "``` \n",
        " \n",
        "\n",
        "Ketikan pada code cell di bawah ini pada editor:"
      ]
    },
    {
      "cell_type": "code",
      "metadata": {
        "id": "hYGfkiKOMo_x",
        "colab": {
          "base_uri": "https://localhost:8080/"
        },
        "outputId": "bc832df8-833f-44f8-809d-ce95c3fdc3bf"
      },
      "source": [
        "##Jawaban Tugas Praktek 3.4\n",
        "a=16\n",
        "b=8\n",
        "selisih = a-b\n",
        "jumlah = a+b\n",
        "kali = a*b\n",
        "bagi = a/b\n",
        "print(\"Hasil penjumlahan dan b adalah\", jumlah)\n",
        "print(\"Selisih a dan b adalah :\",selisih)\n",
        "print(\"Hasil perkalian a dan b adalah :\",kali)\n",
        "print(\"Hasil  pembagian a dan b adalah:\",bagi)"
      ],
      "execution_count": 1,
      "outputs": [
        {
          "output_type": "stream",
          "name": "stdout",
          "text": [
            "Hasil penjumlahan dan b adalah 24\n",
            "Selisih a dan b adalah : 8\n",
            "Hasil perkalian a dan b adalah : 128\n",
            "Hasil  pembagian a dan b adalah: 2.0\n"
          ]
        }
      ]
    }
  ]
}