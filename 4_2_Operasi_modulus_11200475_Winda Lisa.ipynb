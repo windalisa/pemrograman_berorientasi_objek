{
  "nbformat": 4,
  "nbformat_minor": 0,
  "metadata": {
    "colab": {
      "name": "4_2_Operasi_modulus_11200461_Muhammad Fajri Aushaf.ipynb",
      "provenance": [],
      "collapsed_sections": []
    },
    "kernelspec": {
      "name": "python3",
      "display_name": "Python 3"
    }
  },
  "cells": [
    {
      "cell_type": "code",
      "metadata": {
        "id": "vcWWM9-jNgXb"
      },
      "source": [
        ""
      ],
      "execution_count": null,
      "outputs": []
    },
    {
      "cell_type": "markdown",
      "metadata": {
        "id": "tPBAeoa4NxzC"
      },
      "source": [
        "**Operasi modulus**\n",
        "\n",
        "Modulus memang jarang dipakai namun, dibeberapa kasus modulus sangat berguna untuk mempercepat proses perhitungan. Modulus sendiri merupakan fungsi yang akan menghitung sisa dari hasil pembagian. Untuk lebih jelasnya silahkan lakukan praktek di bawah ini :\n",
        "``` javascript\n",
        "c=10\n",
        "d=3\n",
        "\n",
        "modulus=c%d\n",
        "print(\"Hasil modulus\",modulus)\n",
        "```\n",
        "Ketikan code cell di bawah ini pada editor:"
      ]
    },
    {
      "cell_type": "code",
      "metadata": {
        "id": "fhfc8ABhOxQa",
        "colab": {
          "base_uri": "https://localhost:8080/"
        },
        "outputId": "509e4e1e-238c-4b7c-d768-0fcc73112459"
      },
      "source": [
        "##Jawaban Tugas Praktek 3.2\n",
        "c=10\n",
        "d=3\n",
        "\n",
        "modulus=c%d\n",
        "print(\"Hasil modulus\",modulus)\n"
      ],
      "execution_count": 3,
      "outputs": [
        {
          "output_type": "stream",
          "name": "stdout",
          "text": [
            "Hasil modulus 1\n"
          ]
        }
      ]
    },
    {
      "cell_type": "markdown",
      "metadata": {
        "id": "dvFFTUG2O_Cb"
      },
      "source": [
        "Kenapa modulus bisa seperti itu? (berikan jawaban anda pada cell teks diabawah ini)"
      ]
    },
    {
      "cell_type": "markdown",
      "metadata": {
        "id": "Fn8nPF6TPEGa"
      },
      "source": [
        "##Jawaban Keterangan \n",
        "Operator modulus menghitung nilai sisa bagi dari suatu operasi matematika"
      ]
    }
  ]
}