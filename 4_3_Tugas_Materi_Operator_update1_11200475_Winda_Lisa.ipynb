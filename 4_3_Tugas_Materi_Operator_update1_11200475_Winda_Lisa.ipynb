{
  "nbformat": 4,
  "nbformat_minor": 0,
  "metadata": {
    "colab": {
      "name": "4_3_Tugas_Materi_Operator_update1_11200461_Muhammad Fajri Aushaf.ipynb",
      "provenance": [],
      "collapsed_sections": []
    },
    "kernelspec": {
      "name": "python3",
      "display_name": "Python 3"
    }
  },
  "cells": [
    {
      "cell_type": "code",
      "metadata": {
        "id": "wOlm8I2lPwa7"
      },
      "source": [
        ""
      ],
      "execution_count": null,
      "outputs": []
    },
    {
      "cell_type": "markdown",
      "metadata": {
        "id": "xQeqMxskP66X"
      },
      "source": [
        "##Tugas Praktek\n",
        "``` javascript\n",
        "if ... :\n",
        "    print(\"angka termasuk bilangan genap\")\n",
        "else:\n",
        "    print(\"angka termasuk bilangan ganjil\")\n",
        "``` \n",
        "Buatlah sebuah program yang bisa menentukan suatu nilai pada variable itu genap atau ganjil! Lakukan percobaan dengan langkah berikut:\n",
        "\n",
        "Buat variabel dengan nama “angka” isi dengan nilai 10\n",
        "Ganti bagian … dengan perhitungan untuk menentukan angka modulus 2 bernilai 0.\n",
        "\n",
        "1.   Buat variabel dengan nama **“angka”** isi dengan nilai 10\n",
        "2.   Ganti bagian … dengan perhitungan untuk menentukan angka modulus 2 bernilai 0.\n",
        "\n",
        "\n",
        "Cek apakah benar dia bernilai genap maka keluarkan **\"angka termasuk bilangan genap\"**, jika sudah ganti nilai variable angka dengan nilai 5 cek lagi apakah dia bernilai ganjil dan keluarkan **\"angka termasuk bilangan ganjil\"**.\n",
        "\n",
        "Note: Anda bisa menggunakan materi-materi sebelumnya dengan menggabungkannya di tugas praktek ini untuk membantu anda dalam mengerjakan.\n",
        "\n",
        "\n",
        "Ketikan pada code cell di bawah ini pada editor:"
      ]
    },
    {
      "cell_type": "code",
      "metadata": {
        "id": "eAf4FfQ-Qh57",
        "colab": {
          "base_uri": "https://localhost:8080/"
        },
        "outputId": "318e9bdf-07ea-49cb-f04b-1cd1c5acc804"
      },
      "source": [
        "##Jawaban Tugas Praktek 3.3\n",
        "bil = int(input(\"Masukan Bilangan :\"))\n",
        "\n",
        "if bil % 2 == 0:\n",
        "    print(\" %d Merupakan Bilangan Genap\" % bil)\n",
        "else:\n",
        "    print(\"%d Merupakan Bilangan Ganjil\" % bil)"
      ],
      "execution_count": 1,
      "outputs": [
        {
          "output_type": "stream",
          "name": "stdout",
          "text": [
            "Masukan Bilangan :8\n",
            " 8 Merupakan Bilangan Genap\n"
          ]
        }
      ]
    }
  ]
}